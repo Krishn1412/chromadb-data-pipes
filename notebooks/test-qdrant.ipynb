{
 "cells": [
  {
   "cell_type": "code",
   "execution_count": 14,
   "id": "initial_id",
   "metadata": {
    "collapsed": true,
    "ExecuteTime": {
     "end_time": "2024-01-20T08:48:29.560490Z",
     "start_time": "2024-01-20T08:48:29.305917Z"
    }
   },
   "outputs": [],
   "source": [
    "from qdrant_client import QdrantClient\n",
    "\n",
    "client = QdrantClient(host=\"localhost\", port=6333)\n",
    "from qdrant_client.http.models import Distance, VectorParams\n",
    "client.create_collection(\n",
    "    collection_name=\"test_collection2\",\n",
    "    vectors_config=VectorParams(size=4, distance=Distance.DOT)\n",
    ")\n",
    "from qdrant_client.http.models import PointStruct\n",
    "operation_info = client.upsert(\n",
    "    collection_name=\"test_collection2\",\n",
    "    wait=True,\n",
    "    points=[PointStruct(id=i, vector=[0.05, 0.61, 0.76, 0.74], payload={\"city\": f\"City {i}\"}) for i in range(100)]\n",
    ")"
   ]
  },
  {
   "cell_type": "code",
   "outputs": [
    {
     "name": "stdout",
     "output_type": "stream",
     "text": [
      "[Record(id=1, payload={'city': 'City 1'}, vector=[0.05, 0.61, 0.76, 0.74], shard_key=None)]\n",
      "[Record(id=2, payload={'city': 'City 2'}, vector=[0.05, 0.61, 0.76, 0.74], shard_key=None)]\n",
      "[Record(id=3, payload={'city': 'City 3'}, vector=[0.05, 0.61, 0.76, 0.74], shard_key=None)]\n",
      "[Record(id=4, payload={'city': 'City 4'}, vector=[0.05, 0.61, 0.76, 0.74], shard_key=None)]\n",
      "[Record(id=5, payload={'city': 'City 5'}, vector=[0.05, 0.61, 0.76, 0.74], shard_key=None)]\n",
      "[Record(id=6, payload={'city': 'City 6'}, vector=[0.05, 0.61, 0.76, 0.74], shard_key=None)]\n",
      "[Record(id=7, payload={'city': 'City 7'}, vector=[0.05, 0.61, 0.76, 0.74], shard_key=None)]\n",
      "[Record(id=8, payload={'city': 'City 8'}, vector=[0.05, 0.61, 0.76, 0.74], shard_key=None)]\n",
      "[Record(id=9, payload={'city': 'City 9'}, vector=[0.05, 0.61, 0.76, 0.74], shard_key=None)]\n",
      "[Record(id=10, payload={'city': 'City 10'}, vector=[0.05, 0.61, 0.76, 0.74], shard_key=None)]\n",
      "[Record(id=11, payload={'city': 'City 11'}, vector=[0.05, 0.61, 0.76, 0.74], shard_key=None)]\n",
      "[Record(id=12, payload={'city': 'City 12'}, vector=[0.05, 0.61, 0.76, 0.74], shard_key=None)]\n",
      "[Record(id=13, payload={'city': 'City 13'}, vector=[0.05, 0.61, 0.76, 0.74], shard_key=None)]\n",
      "[Record(id=14, payload={'city': 'City 14'}, vector=[0.05, 0.61, 0.76, 0.74], shard_key=None)]\n",
      "[Record(id=15, payload={'city': 'City 15'}, vector=[0.05, 0.61, 0.76, 0.74], shard_key=None)]\n",
      "[Record(id=16, payload={'city': 'City 16'}, vector=[0.05, 0.61, 0.76, 0.74], shard_key=None)]\n",
      "[Record(id=17, payload={'city': 'City 17'}, vector=[0.05, 0.61, 0.76, 0.74], shard_key=None)]\n",
      "[Record(id=18, payload={'city': 'City 18'}, vector=[0.05, 0.61, 0.76, 0.74], shard_key=None)]\n",
      "[Record(id=19, payload={'city': 'City 19'}, vector=[0.05, 0.61, 0.76, 0.74], shard_key=None)]\n",
      "[Record(id=20, payload={'city': 'City 20'}, vector=[0.05, 0.61, 0.76, 0.74], shard_key=None)]\n",
      "[Record(id=21, payload={'city': 'City 21'}, vector=[0.05, 0.61, 0.76, 0.74], shard_key=None)]\n",
      "[Record(id=22, payload={'city': 'City 22'}, vector=[0.05, 0.61, 0.76, 0.74], shard_key=None)]\n",
      "[Record(id=23, payload={'city': 'City 23'}, vector=[0.05, 0.61, 0.76, 0.74], shard_key=None)]\n",
      "[Record(id=24, payload={'city': 'City 24'}, vector=[0.05, 0.61, 0.76, 0.74], shard_key=None)]\n",
      "[Record(id=25, payload={'city': 'City 25'}, vector=[0.05, 0.61, 0.76, 0.74], shard_key=None)]\n",
      "[Record(id=26, payload={'city': 'City 26'}, vector=[0.05, 0.61, 0.76, 0.74], shard_key=None)]\n",
      "[Record(id=27, payload={'city': 'City 27'}, vector=[0.05, 0.61, 0.76, 0.74], shard_key=None)]\n",
      "[Record(id=28, payload={'city': 'City 28'}, vector=[0.05, 0.61, 0.76, 0.74], shard_key=None)]\n",
      "[Record(id=29, payload={'city': 'City 29'}, vector=[0.05, 0.61, 0.76, 0.74], shard_key=None)]\n",
      "[Record(id=30, payload={'city': 'City 30'}, vector=[0.05, 0.61, 0.76, 0.74], shard_key=None)]\n",
      "[Record(id=31, payload={'city': 'City 31'}, vector=[0.05, 0.61, 0.76, 0.74], shard_key=None)]\n",
      "[Record(id=32, payload={'city': 'City 32'}, vector=[0.05, 0.61, 0.76, 0.74], shard_key=None)]\n",
      "[Record(id=33, payload={'city': 'City 33'}, vector=[0.05, 0.61, 0.76, 0.74], shard_key=None)]\n",
      "[Record(id=34, payload={'city': 'City 34'}, vector=[0.05, 0.61, 0.76, 0.74], shard_key=None)]\n",
      "[Record(id=35, payload={'city': 'City 35'}, vector=[0.05, 0.61, 0.76, 0.74], shard_key=None)]\n",
      "[Record(id=36, payload={'city': 'City 36'}, vector=[0.05, 0.61, 0.76, 0.74], shard_key=None)]\n",
      "[Record(id=37, payload={'city': 'City 37'}, vector=[0.05, 0.61, 0.76, 0.74], shard_key=None)]\n",
      "[Record(id=38, payload={'city': 'City 38'}, vector=[0.05, 0.61, 0.76, 0.74], shard_key=None)]\n",
      "[Record(id=39, payload={'city': 'City 39'}, vector=[0.05, 0.61, 0.76, 0.74], shard_key=None)]\n",
      "[Record(id=40, payload={'city': 'City 40'}, vector=[0.05, 0.61, 0.76, 0.74], shard_key=None)]\n",
      "[Record(id=41, payload={'city': 'City 41'}, vector=[0.05, 0.61, 0.76, 0.74], shard_key=None)]\n",
      "[Record(id=42, payload={'city': 'City 42'}, vector=[0.05, 0.61, 0.76, 0.74], shard_key=None)]\n",
      "[Record(id=43, payload={'city': 'City 43'}, vector=[0.05, 0.61, 0.76, 0.74], shard_key=None)]\n",
      "[Record(id=44, payload={'city': 'City 44'}, vector=[0.05, 0.61, 0.76, 0.74], shard_key=None)]\n",
      "[Record(id=45, payload={'city': 'City 45'}, vector=[0.05, 0.61, 0.76, 0.74], shard_key=None)]\n",
      "[Record(id=46, payload={'city': 'City 46'}, vector=[0.05, 0.61, 0.76, 0.74], shard_key=None)]\n",
      "[Record(id=47, payload={'city': 'City 47'}, vector=[0.05, 0.61, 0.76, 0.74], shard_key=None)]\n",
      "[Record(id=48, payload={'city': 'City 48'}, vector=[0.05, 0.61, 0.76, 0.74], shard_key=None)]\n",
      "[Record(id=49, payload={'city': 'City 49'}, vector=[0.05, 0.61, 0.76, 0.74], shard_key=None)]\n",
      "[Record(id=50, payload={'city': 'City 50'}, vector=[0.05, 0.61, 0.76, 0.74], shard_key=None)]\n",
      "[Record(id=51, payload={'city': 'City 51'}, vector=[0.05, 0.61, 0.76, 0.74], shard_key=None)]\n",
      "[Record(id=52, payload={'city': 'City 52'}, vector=[0.05, 0.61, 0.76, 0.74], shard_key=None)]\n",
      "[Record(id=53, payload={'city': 'City 53'}, vector=[0.05, 0.61, 0.76, 0.74], shard_key=None)]\n",
      "[Record(id=54, payload={'city': 'City 54'}, vector=[0.05, 0.61, 0.76, 0.74], shard_key=None)]\n",
      "[Record(id=55, payload={'city': 'City 55'}, vector=[0.05, 0.61, 0.76, 0.74], shard_key=None)]\n",
      "[Record(id=56, payload={'city': 'City 56'}, vector=[0.05, 0.61, 0.76, 0.74], shard_key=None)]\n",
      "[Record(id=57, payload={'city': 'City 57'}, vector=[0.05, 0.61, 0.76, 0.74], shard_key=None)]\n",
      "[Record(id=58, payload={'city': 'City 58'}, vector=[0.05, 0.61, 0.76, 0.74], shard_key=None)]\n",
      "[Record(id=59, payload={'city': 'City 59'}, vector=[0.05, 0.61, 0.76, 0.74], shard_key=None)]\n",
      "[Record(id=60, payload={'city': 'City 60'}, vector=[0.05, 0.61, 0.76, 0.74], shard_key=None)]\n",
      "[Record(id=61, payload={'city': 'City 61'}, vector=[0.05, 0.61, 0.76, 0.74], shard_key=None)]\n",
      "[Record(id=62, payload={'city': 'City 62'}, vector=[0.05, 0.61, 0.76, 0.74], shard_key=None)]\n",
      "[Record(id=63, payload={'city': 'City 63'}, vector=[0.05, 0.61, 0.76, 0.74], shard_key=None)]\n",
      "[Record(id=64, payload={'city': 'City 64'}, vector=[0.05, 0.61, 0.76, 0.74], shard_key=None)]\n",
      "[Record(id=65, payload={'city': 'City 65'}, vector=[0.05, 0.61, 0.76, 0.74], shard_key=None)]\n",
      "[Record(id=66, payload={'city': 'City 66'}, vector=[0.05, 0.61, 0.76, 0.74], shard_key=None)]\n",
      "[Record(id=67, payload={'city': 'City 67'}, vector=[0.05, 0.61, 0.76, 0.74], shard_key=None)]\n",
      "[Record(id=68, payload={'city': 'City 68'}, vector=[0.05, 0.61, 0.76, 0.74], shard_key=None)]\n",
      "[Record(id=69, payload={'city': 'City 69'}, vector=[0.05, 0.61, 0.76, 0.74], shard_key=None)]\n",
      "[Record(id=70, payload={'city': 'City 70'}, vector=[0.05, 0.61, 0.76, 0.74], shard_key=None)]\n",
      "[Record(id=71, payload={'city': 'City 71'}, vector=[0.05, 0.61, 0.76, 0.74], shard_key=None)]\n",
      "[Record(id=72, payload={'city': 'City 72'}, vector=[0.05, 0.61, 0.76, 0.74], shard_key=None)]\n",
      "[Record(id=73, payload={'city': 'City 73'}, vector=[0.05, 0.61, 0.76, 0.74], shard_key=None)]\n",
      "[Record(id=74, payload={'city': 'City 74'}, vector=[0.05, 0.61, 0.76, 0.74], shard_key=None)]\n",
      "[Record(id=75, payload={'city': 'City 75'}, vector=[0.05, 0.61, 0.76, 0.74], shard_key=None)]\n",
      "[Record(id=76, payload={'city': 'City 76'}, vector=[0.05, 0.61, 0.76, 0.74], shard_key=None)]\n",
      "[Record(id=77, payload={'city': 'City 77'}, vector=[0.05, 0.61, 0.76, 0.74], shard_key=None)]\n",
      "[Record(id=78, payload={'city': 'City 78'}, vector=[0.05, 0.61, 0.76, 0.74], shard_key=None)]\n",
      "[Record(id=79, payload={'city': 'City 79'}, vector=[0.05, 0.61, 0.76, 0.74], shard_key=None)]\n",
      "[Record(id=80, payload={'city': 'City 80'}, vector=[0.05, 0.61, 0.76, 0.74], shard_key=None)]\n",
      "[Record(id=81, payload={'city': 'City 81'}, vector=[0.05, 0.61, 0.76, 0.74], shard_key=None)]\n",
      "[Record(id=82, payload={'city': 'City 82'}, vector=[0.05, 0.61, 0.76, 0.74], shard_key=None)]\n",
      "[Record(id=83, payload={'city': 'City 83'}, vector=[0.05, 0.61, 0.76, 0.74], shard_key=None)]\n",
      "[Record(id=84, payload={'city': 'City 84'}, vector=[0.05, 0.61, 0.76, 0.74], shard_key=None)]\n",
      "[Record(id=85, payload={'city': 'City 85'}, vector=[0.05, 0.61, 0.76, 0.74], shard_key=None)]\n",
      "[Record(id=86, payload={'city': 'City 86'}, vector=[0.05, 0.61, 0.76, 0.74], shard_key=None)]\n",
      "[Record(id=87, payload={'city': 'City 87'}, vector=[0.05, 0.61, 0.76, 0.74], shard_key=None)]\n",
      "[Record(id=88, payload={'city': 'City 88'}, vector=[0.05, 0.61, 0.76, 0.74], shard_key=None)]\n",
      "[Record(id=89, payload={'city': 'City 89'}, vector=[0.05, 0.61, 0.76, 0.74], shard_key=None)]\n",
      "[Record(id=90, payload={'city': 'City 90'}, vector=[0.05, 0.61, 0.76, 0.74], shard_key=None)]\n",
      "[Record(id=91, payload={'city': 'City 91'}, vector=[0.05, 0.61, 0.76, 0.74], shard_key=None)]\n",
      "[Record(id=92, payload={'city': 'City 92'}, vector=[0.05, 0.61, 0.76, 0.74], shard_key=None)]\n",
      "[Record(id=93, payload={'city': 'City 93'}, vector=[0.05, 0.61, 0.76, 0.74], shard_key=None)]\n",
      "[Record(id=94, payload={'city': 'City 94'}, vector=[0.05, 0.61, 0.76, 0.74], shard_key=None)]\n",
      "[Record(id=95, payload={'city': 'City 95'}, vector=[0.05, 0.61, 0.76, 0.74], shard_key=None)]\n",
      "[Record(id=96, payload={'city': 'City 96'}, vector=[0.05, 0.61, 0.76, 0.74], shard_key=None)]\n",
      "[Record(id=97, payload={'city': 'City 97'}, vector=[0.05, 0.61, 0.76, 0.74], shard_key=None)]\n",
      "[Record(id=98, payload={'city': 'City 98'}, vector=[0.05, 0.61, 0.76, 0.74], shard_key=None)]\n",
      "[Record(id=99, payload={'city': 'City 99'}, vector=[0.05, 0.61, 0.76, 0.74], shard_key=None)]\n",
      "[]\n"
     ]
    }
   ],
   "source": [
    "col = client.get_collection(collection_name=\"test_collection2\")\n",
    "for i in range(0,col.vectors_count, 1):\n",
    "    res = client.scroll(collection_name=\"test_collection2\", offset=i+1, limit=1,with_vectors=True, with_payload=True)\n",
    "    print(res[0])\n",
    "# for vector in vectors:\n",
    "#     print(vector)"
   ],
   "metadata": {
    "collapsed": false,
    "ExecuteTime": {
     "end_time": "2024-01-20T08:48:32.064656Z",
     "start_time": "2024-01-20T08:48:31.805233Z"
    }
   },
   "id": "81f05959c2814364",
   "execution_count": 15
  },
  {
   "cell_type": "code",
   "outputs": [],
   "source": [],
   "metadata": {
    "collapsed": false,
    "ExecuteTime": {
     "end_time": "2024-01-20T08:46:36.597272Z",
     "start_time": "2024-01-20T08:46:36.557595Z"
    }
   },
   "id": "ed5c8c9398314f2c",
   "execution_count": 8
  },
  {
   "cell_type": "code",
   "outputs": [],
   "source": [],
   "metadata": {
    "collapsed": false
   },
   "id": "8f00b9e9f2069705"
  }
 ],
 "metadata": {
  "kernelspec": {
   "display_name": "Python 3",
   "language": "python",
   "name": "python3"
  },
  "language_info": {
   "codemirror_mode": {
    "name": "ipython",
    "version": 2
   },
   "file_extension": ".py",
   "mimetype": "text/x-python",
   "name": "python",
   "nbconvert_exporter": "python",
   "pygments_lexer": "ipython2",
   "version": "2.7.6"
  }
 },
 "nbformat": 4,
 "nbformat_minor": 5
}
